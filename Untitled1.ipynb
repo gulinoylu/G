{
 "cells": [
  {
   "cell_type": "code",
   "execution_count": 1,
   "metadata": {
    "collapsed": true
   },
   "outputs": [],
   "source": [
    "import sympy\n"
   ]
  },
  {
   "cell_type": "code",
   "execution_count": 2,
   "metadata": {
    "collapsed": true
   },
   "outputs": [],
   "source": [
    "from sympy  import *"
   ]
  },
  {
   "cell_type": "code",
   "execution_count": 85,
   "metadata": {
    "collapsed": false
   },
   "outputs": [
    {
     "data": {
      "text/plain": [
       "{x: 3, y: 2}"
      ]
     },
     "execution_count": 85,
     "metadata": {},
     "output_type": "execute_result"
    }
   ],
   "source": [
    "solve((x+y+a-5, x-y-1),[x,y])"
   ]
  },
  {
   "cell_type": "code",
   "execution_count": 6,
   "metadata": {
    "collapsed": true
   },
   "outputs": [],
   "source": [
    "def g(a,b):\n",
    "    return a*2+b"
   ]
  },
  {
   "cell_type": "code",
   "execution_count": 7,
   "metadata": {
    "collapsed": true
   },
   "outputs": [],
   "source": [
    "def f(a,b):\n",
    "    return a-b "
   ]
  },
  {
   "cell_type": "code",
   "execution_count": 41,
   "metadata": {
    "collapsed": false
   },
   "outputs": [
    {
     "data": {
      "text/plain": [
       "{a: 2, b: 1, c: 1}"
      ]
     },
     "execution_count": 41,
     "metadata": {},
     "output_type": "execute_result"
    }
   ],
   "source": [
    "solve ((f(a,b)+g(a,b)-6,g(a,b)-5, c-f(a,b)),[a,b,c])"
   ]
  },
  {
   "cell_type": "code",
   "execution_count": 38,
   "metadata": {
    "collapsed": false
   },
   "outputs": [
    {
     "data": {
      "text/plain": [
       "a - 1"
      ]
     },
     "execution_count": 38,
     "metadata": {},
     "output_type": "execute_result"
    }
   ],
   "source": [
    "f(a,1)"
   ]
  },
  {
   "cell_type": "code",
   "execution_count": 17,
   "metadata": {
    "collapsed": true
   },
   "outputs": [],
   "source": [
    "x=f(a,b)"
   ]
  },
  {
   "cell_type": "code",
   "execution_count": 13,
   "metadata": {
    "collapsed": true
   },
   "outputs": [],
   "source": [
    "b = Symbol('b')"
   ]
  },
  {
   "cell_type": "code",
   "execution_count": 12,
   "metadata": {
    "collapsed": true
   },
   "outputs": [],
   "source": [
    "a = Symbol('a')"
   ]
  },
  {
   "cell_type": "code",
   "execution_count": null,
   "metadata": {
    "collapsed": true
   },
   "outputs": [],
   "source": []
  },
  {
   "cell_type": "code",
   "execution_count": 34,
   "metadata": {
    "collapsed": true
   },
   "outputs": [],
   "source": [
    "c = Symbol('c')"
   ]
  },
  {
   "cell_type": "code",
   "execution_count": 70,
   "metadata": {
    "collapsed": true
   },
   "outputs": [],
   "source": [
    "a=0"
   ]
  },
  {
   "cell_type": "code",
   "execution_count": 46,
   "metadata": {
    "collapsed": false
   },
   "outputs": [],
   "source": [
    "nm1= Symbol('nm1')\n",
    "nm2=  Symbol('nm2')\n",
    "nm3= Symbol('nm3')\n",
    "nf1=  Symbol('nf1')\n",
    "nf2=  Symbol('nf2')\n",
    "nf3=  Symbol('nf3')\n",
    "tf=  Symbol('tf')\n",
    "tm= Symbol('tm')\n",
    "xs= Symbol('xs')\n",
    "xo= Symbol('xo')\n",
    "r= Symbol('r')\n",
    "zs=  Symbol('zs')\n",
    "zo= Symbol('zo')\n",
    "Gam1= Symbol('Gam1')\n",
    "Gam2= Symbol('Gam2')\n",
    "Gam3= Symbol('Gam3')\n",
    "Gaf1= Symbol('Gaf1')\n",
    "Gaf2= Symbol('Gaf2')\n",
    "Gaf3= Symbol('Gaf3')"
   ]
  },
  {
   "cell_type": "code",
   "execution_count": 62,
   "metadata": {
    "collapsed": true
   },
   "outputs": [],
   "source": [
    "Gam1=((1-tm)*tf*xs+tm*xo)/(1+r)-zo-zs"
   ]
  },
  {
   "cell_type": "code",
   "execution_count": 63,
   "metadata": {
    "collapsed": true
   },
   "outputs": [],
   "source": [
    "Gam2=((1-tm)*tm*xs+tm*xo)/(1+r)-zo-zs"
   ]
  },
  {
   "cell_type": "code",
   "execution_count": 64,
   "metadata": {
    "collapsed": true
   },
   "outputs": [],
   "source": [
    "Gam3=(tm*xo)/(1+r)-zo"
   ]
  },
  {
   "cell_type": "code",
   "execution_count": 65,
   "metadata": {
    "collapsed": true
   },
   "outputs": [],
   "source": [
    "Gaf1=((1-tf)*tm*xs+tf*xo)/(1+r)-zo-zs"
   ]
  },
  {
   "cell_type": "code",
   "execution_count": 66,
   "metadata": {
    "collapsed": true
   },
   "outputs": [],
   "source": [
    "Gaf2=((1-tf)*tf*xs+tf*xo)/(1+r)-zo-zs"
   ]
  },
  {
   "cell_type": "code",
   "execution_count": 67,
   "metadata": {
    "collapsed": true
   },
   "outputs": [],
   "source": [
    "Gaf3=(tf*xo)/(1+r)-zo"
   ]
  },
  {
   "cell_type": "code",
   "execution_count": 6,
   "metadata": {
    "collapsed": false
   },
   "outputs": [
    {
     "data": {
      "text/plain": [
       "{Gam1: (-2*nf1*tf*tm*xs + nf1*tf*xo + nf1*tf*xs + nf1*tm*xo + nf1*tm*xs - nf2*tf**2*xs - nf2*tf*tm*xs + nf2*tf*xo + 2*nf2*tf*xs + nf2*tm*xo + nf3*r*zs - nf3*tf*tm*xs + nf3*tf*xo + nf3*tf*xs + nf3*tm*xo + nf3*zs - 2*nm1*tf*tm*xs + 2*nm1*tf*xs + 2*nm1*tm*xo - nm2*tf*tm*xs + nm2*tf*xs - nm2*tm**2*xs + 2*nm2*tm*xo + nm2*tm*xs + nm3*r*zs - nm3*tf*tm*xs + nm3*tf*xs + 2*nm3*tm*xo + nm3*zs)/(nf1*r + nf1 + nf2*r + nf2 + nf3*r + nf3 + nm1*r + nm1 + nm2*r + nm2 + nm3*r + nm3),\n",
       " Gam3: (-nf1*r*zs - nf1*tf*tm*xs + nf1*tf*xo + nf1*tm*xo + nf1*tm*xs - nf1*zs - nf2*r*zs - nf2*tf**2*xs + nf2*tf*xo + nf2*tf*xs + nf2*tm*xo - nf2*zs + nf3*tf*xo + nf3*tm*xo - nm1*r*zs - nm1*tf*tm*xs + nm1*tf*xs + 2*nm1*tm*xo - nm1*zs - nm2*r*zs - nm2*tm**2*xs + 2*nm2*tm*xo + nm2*tm*xs - nm2*zs + 2*nm3*tm*xo)/(nf1*r + nf1 + nf2*r + nf2 + nf3*r + nf3 + nm1*r + nm1 + nm2*r + nm2 + nm3*r + nm3),\n",
       " Gaf2: (-nf1*tf**2*xs - nf1*tf*tm*xs + 2*nf1*tf*xo + nf1*tf*xs + nf1*tm*xs - 2*nf2*tf**2*xs + 2*nf2*tf*xo + 2*nf2*tf*xs + nf3*r*zs - nf3*tf**2*xs + 2*nf3*tf*xo + nf3*tf*xs + nf3*zs - nm1*tf**2*xs - nm1*tf*tm*xs + nm1*tf*xo + 2*nm1*tf*xs + nm1*tm*xo - nm2*tf**2*xs + nm2*tf*xo + nm2*tf*xs - nm2*tm**2*xs + nm2*tm*xo + nm2*tm*xs + nm3*r*zs - nm3*tf**2*xs + nm3*tf*xo + nm3*tf*xs + nm3*tm*xo + nm3*zs)/(nf1*r + nf1 + nf2*r + nf2 + nf3*r + nf3 + nm1*r + nm1 + nm2*r + nm2 + nm3*r + nm3),\n",
       " Gam2: (-nf1*tf*tm*xs + nf1*tf*xo - nf1*tm**2*xs + nf1*tm*xo + 2*nf1*tm*xs - nf2*tf**2*xs + nf2*tf*xo + nf2*tf*xs - nf2*tm**2*xs + nf2*tm*xo + nf2*tm*xs + nf3*r*zs + nf3*tf*xo - nf3*tm**2*xs + nf3*tm*xo + nf3*tm*xs + nf3*zs - nm1*tf*tm*xs + nm1*tf*xs - nm1*tm**2*xs + 2*nm1*tm*xo + nm1*tm*xs - 2*nm2*tm**2*xs + 2*nm2*tm*xo + 2*nm2*tm*xs + nm3*r*zs - nm3*tm**2*xs + 2*nm3*tm*xo + nm3*tm*xs + nm3*zs)/(nf1*r + nf1 + nf2*r + nf2 + nf3*r + nf3 + nm1*r + nm1 + nm2*r + nm2 + nm3*r + nm3),\n",
       " Gaf3: (-nf1*r*zs - nf1*tf*tm*xs + 2*nf1*tf*xo + nf1*tm*xs - nf1*zs - nf2*r*zs - nf2*tf**2*xs + 2*nf2*tf*xo + nf2*tf*xs - nf2*zs + 2*nf3*tf*xo - nm1*r*zs - nm1*tf*tm*xs + nm1*tf*xo + nm1*tf*xs + nm1*tm*xo - nm1*zs - nm2*r*zs + nm2*tf*xo - nm2*tm**2*xs + nm2*tm*xo + nm2*tm*xs - nm2*zs + nm3*tf*xo + nm3*tm*xo)/(nf1*r + nf1 + nf2*r + nf2 + nf3*r + nf3 + nm1*r + nm1 + nm2*r + nm2 + nm3*r + nm3),\n",
       " zo: (-nf1*tf*tm*xs + nf1*tf*xo + nf1*tm*xs - nf2*tf**2*xs + nf2*tf*xo + nf2*tf*xs + nf3*tf*xo - nm1*tf*tm*xs + nm1*tf*xs + nm1*tm*xo - nm2*tm**2*xs + nm2*tm*xo + nm2*tm*xs + nm3*tm*xo - zs*(nf1*r + nf1 + nf2*r + nf2 + nm1*r + nm1 + nm2*r + nm2))/(nf1*r + nf1 + nf2*r + nf2 + nf3*r + nf3 + nm1*r + nm1 + nm2*r + nm2 + nm3*r + nm3),\n",
       " Gaf1: (-2*nf1*tf*tm*xs + 2*nf1*tf*xo + 2*nf1*tm*xs - nf2*tf**2*xs - nf2*tf*tm*xs + 2*nf2*tf*xo + nf2*tf*xs + nf2*tm*xs + nf3*r*zs - nf3*tf*tm*xs + 2*nf3*tf*xo + nf3*tm*xs + nf3*zs - 2*nm1*tf*tm*xs + nm1*tf*xo + nm1*tf*xs + nm1*tm*xo + nm1*tm*xs - nm2*tf*tm*xs + nm2*tf*xo - nm2*tm**2*xs + nm2*tm*xo + 2*nm2*tm*xs + nm3*r*zs - nm3*tf*tm*xs + nm3*tf*xo + nm3*tm*xo + nm3*tm*xs + nm3*zs)/(nf1*r + nf1 + nf2*r + nf2 + nf3*r + nf3 + nm1*r + nm1 + nm2*r + nm2 + nm3*r + nm3)}"
      ]
     },
     "execution_count": 6,
     "metadata": {},
     "output_type": "execute_result"
    }
   ],
   "source": [
    "solve(( Gam1-((1-tm)*tf*xs+tm*xo)/(1+r)-zo-zs, Gam2-((1-tm)*tm*xs+tm*xo)/(1+r)-zo-zs, Gam3-(tm*xo)/(1+r)-zo, Gaf1-((1-tf)*tm*xs+tf*xo)/(1+r)-zo-zs, Gaf2-((1-tf)*tf*xs+tf*xo)/(1+r)-zo-zs, Gaf3-(tf*xo)/(1+r)-zo,\n",
    "((nm1+nm2+nm3+nf1+nf2+nf3)*zo+(nm1+nm2+nf1+nf2)*zs)*(1+r) - xo*(tm*(nm1+nm2+nm3)+tf*(nf1+nf2+nf3))-xs*(nm1*(1-tm)*tf+nm2*(1-tm)*tm + nf1*(1-tf)*tm+nf2*(1-tf)*tf) ), [Gam1,Gam2,Gam3,Gaf1,Gaf2,Gaf3,zo,zs] )\n"
   ]
  },
  {
   "cell_type": "code",
   "execution_count": 51,
   "metadata": {
    "collapsed": false
   },
   "outputs": [
    {
     "data": {
      "text/plain": [
       "{xs: -75.75*zo - 56.8125*zs,\n",
       " Gam3: 7.94117647058824*zo + 5.12745098039216*zs,\n",
       " Gaf2: 2.05882352941176*zo + 1.70588235294118*zs,\n",
       " Gaf1: 2.80882352941176*zo + 2.26838235294118*zs,\n",
       " Gam2: -4.05882352941176*zo - 2.87254901960784*zs,\n",
       " Gaf3: 8.80882352941176*zo + 5.76838235294118*zs,\n",
       " Gam1: -5.55882352941176*zo - 3.99754901960784*zs,\n",
       " xo: 8.76323529411765*zo + 6.4734068627451*zs}"
      ]
     },
     "execution_count": 51,
     "metadata": {},
     "output_type": "execute_result"
    }
   ],
   "source": [
    "solve(( Gam1-((1-tm)*tf*xs+tm*xo)/(1+r)-zo-zs, Gam2-((1-tm)*tm*xs+tm*xo)/(1+r)-zo-zs, Gam3-(tm*xo)/(1+r)-zo, Gaf1-((1-tf)*tm*xs+tf*xo)/(1+r)-zo-zs, Gaf2-((1-tf)*tf*xs+tf*xo)/(1+r)-zo-zs, Gaf3-(tf*xo)/(1+r)-zo,\n",
    "((nm1+nm2+nm3+nf1+nf2+nf3)*zo+(nm1+nm2+nf1+nf2)*zs)*(1+r) - xo*(tm*(nm1+nm2+nm3)+tf*(nf1+nf2+nf3))-xs*(nm1*(1-tm)*tf+nm2*(1-tm)*tm + nf1*(1-tf)*tm+nf2*(1-tf)*tf),Gam1+Gam2+Gam2+Gaf1+Gaf2+Gaf3), [Gam1,Gam2,Gam3,Gaf1,Gaf2,Gaf3,xo,xs])\n"
   ]
  },
  {
   "cell_type": "code",
   "execution_count": 60,
   "metadata": {
    "collapsed": false
   },
   "outputs": [
    {
     "data": {
      "text/plain": [
       "{Gaf1: -4.29038367877053*zo - 3.75706207045839*zs,\n",
       " xs: 110.782244710212*zo + 101.4398850046*zs,\n",
       " Gam3: -11.5725418042103*zo - 11.4347962552087*zs,\n",
       " Gaf2: -3.18366794739978*zo - 2.74367660587697*zs,\n",
       " xo: -15.7313929325181*zo - 14.3077888143299*zs,\n",
       " Gam2: 6.13490989772178*zo + 5.77937117809409*zs,\n",
       " Gaf3: -13.1441095297365*zo - 12.8641457871098*zs,\n",
       " Gam1: 8.34834136046329*zo + 7.80614210725694*zs,\n",
       " t: 95.0508517776941*zo + 87.1320961902705*zs}"
      ]
     },
     "execution_count": 60,
     "metadata": {},
     "output_type": "execute_result"
    }
   ],
   "source": [
    "solve(( Gam1-((1-tm)*tf*xs+tm*xo)/(1+r)-zo-zs, Gam2-((1-tm)*tm*xs+tm*xo)/(1+r)-zo-zs, Gam3-(tm*xo)/(1+r)-zo, Gaf1-((1-tf)*tm*xs+tf*xo)/(1+r)-zo-zs, Gaf2-((1-tf)*tf*xs+tf*xo)/(1+r)-zo-zs, Gaf3-(tf*xo)/(1+r)-zo,\n",
    "((nm1+nm2+nm3+nf1+nf2+nf3)*zo+(nm1+nm2+nf1+nf2)*zs)*(1+r) - xo*(tm*(nm1+nm2+nm3)+tf*(nf1+nf2+nf3))-xs*(nm1*(1-tm)*tf+nm2*(1-tm)*tm + nf1*(1-tf)*tm+nf2*(1-tf)*tf),Gam1+Gam2+Gam2+Gaf1+Gaf2+Gaf3,t-xo-xs), [Gam1,Gam2,Gam3,Gaf1,Gaf2,Gaf3,xo,xs,t])\n"
   ]
  },
  {
   "cell_type": "code",
   "execution_count": 53,
   "metadata": {
    "collapsed": false
   },
   "outputs": [
    {
     "name": "stdout",
     "output_type": "stream",
     "text": [
      "xo + xs\n"
     ]
    }
   ],
   "source": [
    "print(xs+xo)"
   ]
  },
  {
   "cell_type": "code",
   "execution_count": 59,
   "metadata": {
    "collapsed": true
   },
   "outputs": [],
   "source": [
    "nm1= 10000\n",
    "nm2=5\n",
    "nm3=20\n",
    "nf1=10000\n",
    "nf2=5\n",
    "nf3= 20\n",
    "tf=  0.9\n",
    "tm= 0.8\n",
    "\n",
    "r= 0.001\n",
    "xs= Symbol('xs')\n",
    "xo= Symbol('xo')\n",
    "Gam1= Symbol('Gam1')\n",
    "Gam2= Symbol('Gam2')\n",
    "Gam3= Symbol('Gam3')\n",
    "Gaf1= Symbol('Gaf1')\n",
    "Gaf2= Symbol('Gaf2')\n",
    "Gaf3= Symbol('Gaf3')\n",
    "t=Symbol('t')\n"
   ]
  },
  {
   "cell_type": "code",
   "execution_count": null,
   "metadata": {
    "collapsed": true
   },
   "outputs": [],
   "source": []
  },
  {
   "cell_type": "code",
   "execution_count": null,
   "metadata": {
    "collapsed": true
   },
   "outputs": [],
   "source": []
  },
  {
   "cell_type": "code",
   "execution_count": null,
   "metadata": {
    "collapsed": true
   },
   "outputs": [],
   "source": []
  }
 ],
 "metadata": {
  "anaconda-cloud": {},
  "kernelspec": {
   "display_name": "Python [conda root]",
   "language": "python",
   "name": "conda-root-py"
  },
  "language_info": {
   "codemirror_mode": {
    "name": "ipython",
    "version": 3
   },
   "file_extension": ".py",
   "mimetype": "text/x-python",
   "name": "python",
   "nbconvert_exporter": "python",
   "pygments_lexer": "ipython3",
   "version": "3.5.2"
  }
 },
 "nbformat": 4,
 "nbformat_minor": 1
}
