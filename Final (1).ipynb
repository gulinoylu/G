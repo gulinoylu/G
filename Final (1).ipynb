{
 "cells": [
  {
   "cell_type": "markdown",
   "metadata": {},
   "source": [
    "# How does life expectancy differences between male and female affect pension benefit and redistribution?"
   ]
  },
  {
   "cell_type": "markdown",
   "metadata": {},
   "source": [
    "Melody Wang (471596)\n",
    "Gulin Oylu (930248)"
   ]
  },
  {
   "cell_type": "markdown",
   "metadata": {},
   "source": [
    "## Research Question"
   ]
  },
  {
   "cell_type": "markdown",
   "metadata": {},
   "source": [
    "As we may know, males and females have different life expectancies. On average, females live longer than males, and these differences will have an effect on their pensions. This research delves into the topic of gender differences regarding pension contributions and benefit redistribution. We will be looking at how these life expectancy differences between male and female affect the benefit as well as the redistribution?"
   ]
  },
  {
   "cell_type": "markdown",
   "metadata": {},
   "source": [
    "## Motivation\n"
   ]
  },
  {
   "cell_type": "markdown",
   "metadata": {},
   "source": [
    "Statistically speaking, females live longer than males due to biological and mainly behavioral differences between the two sexes. Males have shorter life expectancy could be due to the perpetual habit of smoking or perhaps heavier labor. Females on the other hand could be less exposed to those problems. \n",
    "\n",
    "Below is a graph showing the average life expectancy trend of the world from 1960s to 2014\n",
    "\n",
    "This graph shows you the trend of Anglo-Saxon countries from 1960s to 2014\n",
    "\n",
    "\n",
    "\n",
    "\n",
    "It is important to note that there are signs of life expectancy convergence between the two sexes. However, the convergence force is not strong enough to assume difference between sexes do not pose an effect on pension redistributions. Therefore, we will continue to model based upon the life expectancy differences.\n",
    "\n",
    "As time progresses, the structure of the society is altering in which demographic and cultural changes occur such as ageing, feminism, or low fertility. What sets this research apart is that we take these modern changes into consideration, where we allow for rising number of same sex marriages and singles (who will not marry at all) in the model, so that their survivor pension, widow/widower pension, or old age pension may differ based upon their life expectancy of their partners. For instance, if in a heterosexual relationship the husband dies due to his (predicted) shorter life expectancy, the wife gets widow pension benefits as a result. This means that the expected value of their pension benefit in this case changes. The intragenerational transfer from male to female or female to male change as well. We will analyze under the scenarios of same sex marriage and singles, how the amount of pension benefit changes as well as how the benefits get redistributed.\n"
   ]
  },
  {
   "cell_type": "markdown",
   "metadata": {},
   "source": [
    "## Method"
   ]
  },
  {
   "cell_type": "markdown",
   "metadata": {},
   "source": [
    "This research uses the method of generational accounting with the micro perspective of a single generation. Generational accounting generally looks at accounting balances within current and future generations. In this research, we will analyze whether the current taxation scheme that benefit our society will produce an unfair tax burden for members of the two sexes in the same generational cohort. The purpose of this accounting method is to achieve balance between males and females, where it allows for fiscal sustainability. Intragenerational transfers between the sexes are apparent. The transfers will be a zero-sum game.\n",
    "Reference: Article (GENERATIONAL ACCOUNTS: A MEANINGFUL ALTERNATIVE TO DEFICIT ACCOUNTING Alan J. Auerbach, J. Kotlikoff )\n",
    "\n",
    "There are two types of pension benefits. The first one is the survivor pension, where the female gets widow pension and the male gets widower pensions if their partner is deceased. We will look at the generational account of different groups of participants, female households and male households, single account, married account. Since we assume that there’s no intergenerational transfers, some groups of the generation must transfer to the other groups of the same generation if their account is negative to maintain overall balance (zero-sum game). To clarify, if group 1 has negative generational account, zero-sum game tells us that the other groups of the same generation will have a positive account.\n",
    "\n",
    "For more detailed assumption of the generational account, please see the listed assumptions in section “Model and Assumptions”.\n"
   ]
  },
  {
   "cell_type": "code",
   "execution_count": null,
   "metadata": {
    "collapsed": true
   },
   "outputs": [],
   "source": [
    "import math\n",
    "import numpy as np\n",
    "import pandas as pd\n",
    "from scipy import arange, optimize\n",
    "import matplotlib.pyplot as plt\n",
    "%matplotlib inline"
   ]
  },
  {
   "cell_type": "markdown",
   "metadata": {},
   "source": [
    "## Model and Assumptions"
   ]
  },
  {
   "cell_type": "markdown",
   "metadata": {},
   "source": [
    "###Assumptions\n",
    "\n",
    "* In this model, pension fund consists of both male and female participants.\n",
    "\n",
    "* Both genders live at leats one period and live second perion with a probability which differs across genders. ($\\theta_M$ ,$\\theta_F$)\n",
    "\n",
    "* Every participant in the pension fund has a partner of opporsite sex. This assumption will be relaxed in the study later. That is participants can marry with the same sex or can choose not to marry.\n",
    "\n",
    "* Partners have the same survival probilities with the participants in the pension fund with respect to their genders.\n",
    "\n",
    "* Pension fund offers survival benefits to its participants' partners if they do not survive in the second period. The amount of survival benefit (X)  is the same for both male (widow) and female (widower) participant households. \n",
    "\n",
    "* Contribution rates for pension fund depend on gender of the participants. \n"
   ]
  },
  {
   "cell_type": "markdown",
   "metadata": {},
   "source": [
    "###Table 1. Parameters"
   ]
  },
  {
   "cell_type": "markdown",
   "metadata": {},
   "source": [
    "##Results"
   ]
  },
  {
   "cell_type": "markdown",
   "metadata": {},
   "source": [
    "##Conclusion and Discussion"
   ]
  }
 ],
 "metadata": {
  "anaconda-cloud": {},
  "kernelspec": {
   "display_name": "Python [conda root]",
   "language": "python",
   "name": "conda-root-py"
  },
  "language_info": {
   "codemirror_mode": {
    "name": "ipython",
    "version": 3
   },
   "file_extension": ".py",
   "mimetype": "text/x-python",
   "name": "python",
   "nbconvert_exporter": "python",
   "pygments_lexer": "ipython3",
   "version": "3.5.2"
  }
 },
 "nbformat": 4,
 "nbformat_minor": 1
}
