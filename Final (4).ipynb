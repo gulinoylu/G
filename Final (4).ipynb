{
 "cells": [
  {
   "cell_type": "markdown",
   "metadata": {},
   "source": [
    "# How does life expectancy differences between male and female affect pension benefit and redistribution?"
   ]
  },
  {
   "cell_type": "markdown",
   "metadata": {},
   "source": [
    "* Melody Wang (471596)\n",
    "* Gulin Oylu (930248)"
   ]
  },
  {
   "cell_type": "markdown",
   "metadata": {},
   "source": [
    "## Research Question"
   ]
  },
  {
   "cell_type": "markdown",
   "metadata": {},
   "source": [
    "As we may know, males and females have different life expectancies. On average, females live longer than males, and these differences will have an effect on their pensions. This research delves into the topic of gender differences regarding pension contributions and benefit redistribution. We will be looking at how these life expectancy differences between male and female affect the benefit as well as the redistribution?"
   ]
  },
  {
   "cell_type": "markdown",
   "metadata": {},
   "source": [
    "## Motivation\n"
   ]
  },
  {
   "cell_type": "markdown",
   "metadata": {},
   "source": [
    "Statistically speaking, females live longer than males due to biological and mainly behavioral differences between the two sexes. Males have shorter life expectancy could be due to the perpetual habit of smoking or perhaps heavier labor. Females on the other hand could be less exposed to those problems. \n",
    "\n",
    "Below is a graph showing the average life expectancy trend of the world from 1960s to 2014\n",
    "\n",
    "This graph shows you the trend of Anglo-Saxon countries from 1960s to 2014\n",
    "\n",
    "\n",
    "\n",
    "\n",
    "It is important to note that there are signs of life expectancy convergence between the two sexes. However, the convergence force is not strong enough to assume difference between sexes do not pose an effect on pension redistributions. Therefore, we will continue to model based upon the life expectancy differences.\n",
    "\n",
    "As time progresses, the structure of the society is altering in which demographic and cultural changes occur such as ageing, feminism, or low fertility. What sets this research apart is that we take these modern changes into consideration, where we allow for rising number of same sex marriages and singles (who will not marry at all) in the model, so that their survivor pension, widow/widower pension, or old age pension may differ based upon their life expectancy of their partners. For instance, if in a heterosexual relationship the husband dies due to his (predicted) shorter life expectancy, the wife gets widow pension benefits as a result. This means that the expected value of their pension benefit in this case changes. The intragenerational transfer from male to female or female to male change as well. We will analyze under the scenarios of same sex marriage and singles, how the amount of pension benefit changes as well as how the benefits get redistributed.\n"
   ]
  },
  {
   "cell_type": "markdown",
   "metadata": {},
   "source": [
    "## Method"
   ]
  },
  {
   "cell_type": "markdown",
   "metadata": {},
   "source": [
    "This research uses the method of generational accounting with the micro perspective of a single generation. Generational accounting generally looks at accounting balances within current and future generations. In this research, we will analyze whether the current taxation scheme that benefit our society will produce an unfair tax burden for members of the two sexes in the same generational cohort. The purpose of this accounting method is to achieve balance between males and females, where it allows for fiscal sustainability. Intragenerational transfers between the sexes are apparent. The transfers will be a zero-sum game.\n",
    "Reference: Article (GENERATIONAL ACCOUNTS: A MEANINGFUL ALTERNATIVE TO DEFICIT ACCOUNTING Alan J. Auerbach, J. Kotlikoff )\n",
    "\n",
    "There are two types of pension benefits. The first one is the survivor pension, where the female gets widow pension and the male gets widower pensions if their partner is deceased. We will look at the generational account of different groups of participants, female households and male households, single account, married account. Since we assume that there’s no intergenerational transfers, some groups of the generation must transfer to the other groups of the same generation if their account is negative to maintain overall balance (zero-sum game). To clarify, if group 1 has negative generational account, zero-sum game tells us that the other groups of the same generation will have a positive account.\n",
    "\n",
    "For more detailed assumption of the generational account, please see the listed assumptions in section “Model and Assumptions”.\n"
   ]
  },
  {
   "cell_type": "code",
   "execution_count": 2,
   "metadata": {
    "collapsed": true
   },
   "outputs": [],
   "source": [
    "import math\n",
    "import numpy as np\n",
    "import pandas as pd\n",
    "from scipy import arange, optimize\n",
    "import matplotlib.pyplot as plt\n",
    "%matplotlib inline\n",
    "import sympy\n",
    "from sympy  import *"
   ]
  },
  {
   "cell_type": "markdown",
   "metadata": {},
   "source": [
    "## Model and Assumptions"
   ]
  },
  {
   "cell_type": "markdown",
   "metadata": {},
   "source": [
    "### Table 1. Parameters\n"
   ]
  },
  {
   "cell_type": "markdown",
   "metadata": {},
   "source": [
    "|  Symbol  \t| Definition       \t|\n",
    "|:--------:\t|------------------\t|---\t|\n",
    "| $GA_M$   \t| Generational account of male \t|\n",
    "| $GA_F$   \t| Generational account of female \t|\n",
    "|$\\theta_M$ | Male's survival probability in the second period \t |\n",
    "|$\\theta_F$ | Female's survival probability in the second period  |\n",
    "| $N_M $ \t| Number of male participants |\n",
    "| $N_F $  \t| Number of female participants \t|\n",
    "| $X^{surv}$   \t| Survivor benefits (widow/widower) \t|\n",
    "| $X^{old}$   \t| Old age benefits \t|\n",
    "| $Z_M$   \t| Survivor pension contribution \t|\n",
    "| $Z_F$     | Old age pension contribution |\n",
    "| $1+r$ | Rate of return |\n",
    "| $\\beta$ | Population ratio of male participants to female participants $\\beta$=$N_M$/$N_F$ |\n",
    "| $\\alpha$ | Ratio of the contributions of male participants to that of the female participants $\\alpha$=$Z_M$/$Z_F$ |"
   ]
  },
  {
   "cell_type": "markdown",
   "metadata": {},
   "source": [
    "#### Full-Funding Constraint\n",
    "($N_MZ_M+N_FZ_F)(1+r)=(N_M(1-\\theta_M)\\theta_F+N_F(1-\\theta_F)\\theta_M)X$\n",
    "\n",
    "This equality means that sum of contributions of men and women participants and returns to their contributions must equal to the expected value of the sum of widow and widower benefits for one generation. In other words, sum of all contributions must be equal to the expected discounted value of benefits for one generation. "
   ]
  },
  {
   "cell_type": "markdown",
   "metadata": {},
   "source": [
    "#### Generational account of households of male participants: \n"
   ]
  },
  {
   "cell_type": "markdown",
   "metadata": {},
   "source": [
    "$GA_M=\\frac{(1-\\theta_M)\\theta_FX}{1+r}-Z_M$"
   ]
  },
  {
   "cell_type": "markdown",
   "metadata": {},
   "source": [
    "#### Generational account of households of female participants: \n"
   ]
  },
  {
   "cell_type": "markdown",
   "metadata": {},
   "source": [
    "$GA_F=\\frac{(1-\\theta_F)\\theta_MX}{1+r}-Z_F$"
   ]
  },
  {
   "cell_type": "markdown",
   "metadata": {},
   "source": [
    "## Results"
   ]
  },
  {
   "cell_type": "code",
   "execution_count": 25,
   "metadata": {
    "collapsed": true
   },
   "outputs": [],
   "source": [
    "nm1= Symbol('nm1')\n",
    "nm2=  Symbol('nm2')\n",
    "nm3= Symbol('nm3')\n",
    "nf1=  Symbol('nf1')\n",
    "nf2=  Symbol('nf2')\n",
    "nf3=  Symbol('nf3')\n",
    "tf=  Symbol('tf')\n",
    "tm= Symbol('tm')\n",
    "xs= Symbol('xs')\n",
    "xo= Symbol('xo')\n",
    "r= Symbol('r')\n",
    "zs=  Symbol('zs')\n",
    "zo= Symbol('zo')\n",
    "Gam1= Symbol('Gam1')\n",
    "Gam2= Symbol('Gam2')\n",
    "Gam3= Symbol('Gam3')\n",
    "Gaf1= Symbol('Gaf1')\n",
    "Gaf2= Symbol('Gaf2')\n",
    "Gaf3= Symbol('Gaf3')"
   ]
  },
  {
   "cell_type": "code",
   "execution_count": 4,
   "metadata": {
    "collapsed": true
   },
   "outputs": [],
   "source": [
    "Gam1=((1-tm)*tf*xs+tm*xo)/(1+r)-zo-zs\n",
    "Gam2=((1-tm)*tm*xs+tm*xo)/(1+r)-zo-zs\n",
    "Gam3=(tm*xo)/(1+r)-zo\n",
    "Gaf1=((1-tf)*tm*xs+tf*xo)/(1+r)-zo-zs\n",
    "Gaf2=((1-tf)*tf*xs+tf*xo)/(1+r)-zo-zs\n",
    "Gaf3=(tf*xo)/(1+r)-zo"
   ]
  },
  {
   "cell_type": "code",
   "execution_count": 17,
   "metadata": {
    "collapsed": false
   },
   "outputs": [
    {
     "data": {
      "text/plain": [
       "{xo: (zo*(r + 1)**6*(nf1*tf*tm - nf1*tm + nf2*tf**2 - nf2*tf + nm1*tf*tm - nm1*tf + nm2*tm**2 - nm2*tm) + 5*(r + 1)**5*(r*zo + r*zs + zo + zs)*(nf1*tf*tm - nf1*tm + nf2*tf**2 - nf2*tf + nm1*tf*tm - nm1*tf + nm2*tm**2 - nm2*tm) + (nf1*r*zo + nf1*r*zs + nf1*zo + nf1*zs + nf2*r*zo + nf2*r*zs + nf2*zo + nf2*zs + nf3*r*zo + nf3*zo + nm1*r*zo + nm1*r*zs + nm1*zo + nm1*zs + nm2*r*zo + nm2*r*zs + nm2*zo + nm2*zs + nm3*r*zo + nm3*zo)*(r*tf*(r + 1)**4*(tf - 1) + r*tf*(r + 1)**4*(tm - 1) + r*tf*(r + 1)**3*(tm - 1) + r*tf*(r + 1)**2*(tm - 1) + r*tf*(r + 1)*(tm - 1) + r*tf*(tm - 1) + r*tm*(r + 1)**4*(tf - 1) + 2*r*tm*(r + 1)**4*(tm - 1) + r*tm*(r + 1)**3*(tf - 1) + 2*r*tm*(r + 1)**3*(tm - 1) + 2*r*tm*(r + 1)**2*(tm - 1) + 2*r*tm*(r + 1)*(tm - 1) + tf**2*(r + 1)**4 + tf*tm*(r + 1)**3 + tf*tm - tf*(r + 1)**4 - tf + 2*tm**2*(r + 1) - tm*(r + 1)**3 - 2*tm*(r + 1)))/((r + 1)**5*(-3*nf1*tf**2*tm + nf1*tf**2*(tf - 1) + nf1*tf**2*(tm - 1) - 3*nf1*tf*tm**2 + nf1*tf*tm*(tf - 1) + 2*nf1*tf*tm*(tm - 1) + 3*nf1*tf*tm + 3*nf1*tm**2 - 3*nf2*tf**3 - 3*nf2*tf**2*tm + nf2*tf**2*(tf - 1) + nf2*tf**2*(tm - 1) + 3*nf2*tf**2 + nf2*tf*tm*(tf - 1) + 2*nf2*tf*tm*(tm - 1) + 3*nf2*tf*tm + nf3*tf**2*(tf - 1) + nf3*tf**2*(tm - 1) + nf3*tf*tm*(tf - 1) + 2*nf3*tf*tm*(tm - 1) - 3*nm1*tf**2*tm + 3*nm1*tf**2 - 3*nm1*tf*tm**2 + nm1*tf*tm*(tf - 1) + nm1*tf*tm*(tm - 1) + 3*nm1*tf*tm + nm1*tm**2*(tf - 1) + 2*nm1*tm**2*(tm - 1) - 3*nm2*tf*tm**2 + nm2*tf*tm*(tf - 1) + nm2*tf*tm*(tm - 1) + 3*nm2*tf*tm - 3*nm2*tm**3 + nm2*tm**2*(tf - 1) + 2*nm2*tm**2*(tm - 1) + 3*nm2*tm**2 + nm3*tf*tm*(tf - 1) + nm3*tf*tm*(tm - 1) + nm3*tm**2*(tf - 1) + 2*nm3*tm**2*(tm - 1))),\n",
       " Gaf2: (-7*nf1*tf**3*zo - 6*nf1*tf**3*zs + 4*nf1*tf**2*tm*zo + 3*nf1*tf**2*tm*zs + 5*nf1*tf**2*zo + 4*nf1*tf**2*zs + nf1*tf*tm**2*zo + nf1*tf*tm**2*zs - 6*nf1*tf*tm*zo - 5*nf1*tf*tm*zs + 3*nf1*tm**2*zo + 3*nf1*tm**2*zs - 4*nf2*tf**3*zo - 4*nf2*tf**3*zs - 2*nf2*tf**2*tm*zo - 2*nf2*tf**2*tm*zs + 2*nf2*tf**2*zo + 2*nf2*tf**2*zs + 4*nf2*tf*tm**2*zo + 4*nf2*tf*tm**2*zs - 7*nf3*tf**3*zo - 4*nf3*tf**3*zs + nf3*tf**2*tm*zo + 2*nf3*tf**2*tm*zs + 5*nf3*tf**2*zo + 3*nf3*tf**2*zs + 4*nf3*tf*tm**2*zo + 2*nf3*tf*tm**2*zs - 3*nf3*tf*tm*zo - 3*nf3*tf*tm*zs - 2*nm1*tf**3*zo - 2*nm1*tf**3*zs - 3*nm1*tf**2*tm*zo - 3*nm1*tf**2*tm*zs - 2*nm1*tf**2*zo - nm1*tf**2*zs + nm1*tf*tm**2*zo + nm1*tf*tm**2*zs + 7*nm1*tf*tm*zo + 6*nm1*tf*tm*zs + 2*nm1*tm**3*zo + 2*nm1*tm**3*zs - 3*nm1*tm**2*zo - 3*nm1*tm**2*zs - 2*nm2*tf**3*zo - 2*nm2*tf**3*zs - 6*nm2*tf**2*tm*zo - 5*nm2*tf**2*tm*zs + nm2*tf**2*zo + nm2*tf**2*zs + 7*nm2*tf*tm**2*zo + 6*nm2*tf*tm**2*zs + nm2*tf*tm*zo + nm2*tf*tm*zs - nm2*tm**3*zo - nm2*tm**3*zs - 2*nm3*tf**3*zo - 6*nm3*tf**2*tm*zo - 4*nm3*tf**2*tm*zs + nm3*tf**2*zo + 4*nm3*tf*tm**2*zo + 2*nm3*tf*tm**2*zs + 4*nm3*tf*tm*zo + 3*nm3*tf*tm*zs + 2*nm3*tm**3*zo + 2*nm3*tm**3*zs - 3*nm3*tm**2*zo - 3*nm3*tm**2*zs)/(nf1*tf**3 - nf1*tf**2*tm - 2*nf1*tf**2 - nf1*tf*tm**2 + 3*nf1*tm**2 - 2*nf2*tf**3 - nf2*tf**2*tm + nf2*tf**2 + 2*nf2*tf*tm**2 + nf3*tf**3 + 2*nf3*tf**2*tm - 2*nf3*tf**2 + 2*nf3*tf*tm**2 - 3*nf3*tf*tm - 2*nm1*tf**2*tm + 3*nm1*tf**2 - nm1*tf*tm**2 + nm1*tf*tm + 2*nm1*tm**3 - 3*nm1*tm**2 + nm2*tf**2*tm - nm2*tf*tm**2 + nm2*tf*tm - nm2*tm**3 + nm3*tf**2*tm + 2*nm3*tf*tm**2 - 2*nm3*tf*tm + 2*nm3*tm**3 - 3*nm3*tm**2),\n",
       " xs: (9*nf1*r*tf*zo + 8*nf1*r*tf*zs + 3*nf1*r*tm*zo + 3*nf1*r*tm*zs + 9*nf1*tf*zo + 8*nf1*tf*zs + 3*nf1*tm*zo + 3*nf1*tm*zs + 9*nf2*r*tf*zo + 8*nf2*r*tf*zs + 3*nf2*r*tm*zo + 3*nf2*r*tm*zs + 9*nf2*tf*zo + 8*nf2*tf*zs + 3*nf2*tm*zo + 3*nf2*tm*zs + 9*nf3*r*tf*zo + 5*nf3*r*tf*zs + 3*nf3*r*tm*zo + 9*nf3*tf*zo + 5*nf3*tf*zs + 3*nf3*tm*zo + 3*nm1*r*tf*zo + 3*nm1*r*tf*zs + 9*nm1*r*tm*zo + 8*nm1*r*tm*zs + 3*nm1*tf*zo + 3*nm1*tf*zs + 9*nm1*tm*zo + 8*nm1*tm*zs + 3*nm2*r*tf*zo + 3*nm2*r*tf*zs + 9*nm2*r*tm*zo + 8*nm2*r*tm*zs + 3*nm2*tf*zo + 3*nm2*tf*zs + 9*nm2*tm*zo + 8*nm2*tm*zs + 3*nm3*r*tf*zo + 9*nm3*r*tm*zo + 5*nm3*r*tm*zs + 3*nm3*tf*zo + 9*nm3*tm*zo + 5*nm3*tm*zs)/(nf1*tf**3 - nf1*tf**2*tm - 2*nf1*tf**2 - nf1*tf*tm**2 + 3*nf1*tm**2 - 2*nf2*tf**3 - nf2*tf**2*tm + nf2*tf**2 + 2*nf2*tf*tm**2 + nf3*tf**3 + 2*nf3*tf**2*tm - 2*nf3*tf**2 + 2*nf3*tf*tm**2 - 3*nf3*tf*tm - 2*nm1*tf**2*tm + 3*nm1*tf**2 - nm1*tf*tm**2 + nm1*tf*tm + 2*nm1*tm**3 - 3*nm1*tm**2 + nm2*tf**2*tm - nm2*tf*tm**2 + nm2*tf*tm - nm2*tm**3 + nm3*tf**2*tm + 2*nm3*tf*tm**2 - 2*nm3*tf*tm + 2*nm3*tm**3 - 3*nm3*tm**2),\n",
       " Gam3: (nf1*tf**3*zo + nf1*tf**2*tm*zs - 2*nf1*tf**2*zo + 7*nf1*tf*tm**2*zo + 7*nf1*tf*tm**2*zs - 2*nf1*tf*tm*zo - 2*nf1*tf*tm*zs + 2*nf1*tm**3*zo + 2*nf1*tm**3*zs - 6*nf1*tm**2*zo - 8*nf1*tm**2*zs - 2*nf2*tf**3*zo + 6*nf2*tf**2*tm*zo + 6*nf2*tf**2*tm*zs + nf2*tf**2*zo + 4*nf2*tf*tm**2*zo + 2*nf2*tf*tm**2*zs - 8*nf2*tf*tm*zo - 7*nf2*tf*tm*zs + 2*nf2*tm**3*zo + 2*nf2*tm**3*zs - 3*nf2*tm**2*zo - 3*nf2*tm**2*zs + nf3*tf**3*zo + 3*nf3*tf**2*tm*zo - 2*nf3*tf**2*zo + 4*nf3*tf*tm**2*zo - 5*nf3*tf*tm*zo + 2*nf3*tm**3*zo - 3*nf3*tm**2*zo - nm1*tf**2*tm*zo + nm1*tf**2*tm*zs + 3*nm1*tf**2*zo + 7*nm1*tf*tm**2*zo + 7*nm1*tf*tm**2*zs - 7*nm1*tf*tm*zo - 7*nm1*tf*tm*zs + 4*nm1*tm**3*zo + 2*nm1*tm**3*zs - 6*nm1*tm**2*zo - 3*nm1*tm**2*zs + 2*nm2*tf**2*tm*zo + nm2*tf**2*tm*zs + nm2*tf*tm**2*zo + 2*nm2*tf*tm**2*zs - nm2*tf*tm*zo - 2*nm2*tf*tm*zs + 7*nm2*tm**3*zo + 7*nm2*tm**3*zs - 9*nm2*tm**2*zo - 8*nm2*tm**2*zs + 2*nm3*tf**2*tm*zo + 4*nm3*tf*tm**2*zo - 4*nm3*tf*tm*zo + 4*nm3*tm**3*zo - 6*nm3*tm**2*zo)/(nf1*tf**3 - nf1*tf**2*tm - 2*nf1*tf**2 - nf1*tf*tm**2 + 3*nf1*tm**2 - 2*nf2*tf**3 - nf2*tf**2*tm + nf2*tf**2 + 2*nf2*tf*tm**2 + nf3*tf**3 + 2*nf3*tf**2*tm - 2*nf3*tf**2 + 2*nf3*tf*tm**2 - 3*nf3*tf*tm - 2*nm1*tf**2*tm + 3*nm1*tf**2 - nm1*tf*tm**2 + nm1*tf*tm + 2*nm1*tm**3 - 3*nm1*tm**2 + nm2*tf**2*tm - nm2*tf*tm**2 + nm2*tf*tm - nm2*tm**3 + nm3*tf**2*tm + 2*nm3*tf*tm**2 - 2*nm3*tf*tm + 2*nm3*tm**3 - 3*nm3*tm**2),\n",
       " Gaf1: (2*nf1*tf**3*zo + 2*nf1*tf**3*zs - 2*nf1*tf**2*tm*zo - 2*nf1*tf**2*tm*zs - 4*nf1*tf**2*zo - 4*nf1*tf**2*zs - 2*nf1*tf*tm**2*zo - 2*nf1*tf*tm**2*zs + 6*nf1*tm**2*zo + 6*nf1*tm**2*zs + 5*nf2*tf**3*zo + 4*nf2*tf**3*zs - 8*nf2*tf**2*tm*zo - 7*nf2*tf**2*tm*zs - 7*nf2*tf**2*zo - 6*nf2*tf**2*zs + nf2*tf*tm**2*zo + nf2*tf*tm**2*zs + 6*nf2*tf*tm*zo + 5*nf2*tf*tm*zs + 3*nf2*tm**2*zo + 3*nf2*tm**2*zs + 2*nf3*tf**3*zo + nf3*tf**3*zs - 5*nf3*tf**2*tm*zo - 3*nf3*tf**2*tm*zs - 4*nf3*tf**2*zo - 2*nf3*tf**2*zs + nf3*tf*tm**2*zo + 2*nf3*tf*tm**2*zs + 3*nf3*tf*tm*zo + 2*nf3*tf*tm*zs + 3*nf3*tm**2*zo + nm1*tf**3*zo + nm1*tf**3*zs + 3*nm1*tf**2*tm*zo + 2*nm1*tf**2*tm*zs - 5*nm1*tf**2*zo - 4*nm1*tf**2*zs - 8*nm1*tf*tm**2*zo - 7*nm1*tf*tm**2*zs + nm1*tf*tm*zo + nm1*tf*tm*zs + 2*nm1*tm**3*zo + 2*nm1*tm**3*zs + 6*nm1*tm**2*zo + 5*nm1*tm**2*zs + nm2*tf**3*zo + nm2*tf**3*zs - 2*nm2*tf**2*zo - 2*nm2*tf**2*zs - 2*nm2*tf*tm**2*zo - 2*nm2*tf*tm**2*zs - 5*nm2*tf*tm*zo - 4*nm2*tf*tm*zs - nm2*tm**3*zo - nm2*tm**3*zs + 9*nm2*tm**2*zo + 8*nm2*tm**2*zs + nm3*tf**3*zo + nm3*tf**2*tm*zs - 2*nm3*tf**2*zo - 5*nm3*tf*tm**2*zo - 3*nm3*tf*tm**2*zs - 2*nm3*tf*tm*zo - 2*nm3*tf*tm*zs + 2*nm3*tm**3*zo + 2*nm3*tm**3*zs + 6*nm3*tm**2*zo + 2*nm3*tm**2*zs)/(nf1*tf**3 - nf1*tf**2*tm - 2*nf1*tf**2 - nf1*tf*tm**2 + 3*nf1*tm**2 - 2*nf2*tf**3 - nf2*tf**2*tm + nf2*tf**2 + 2*nf2*tf*tm**2 + nf3*tf**3 + 2*nf3*tf**2*tm - 2*nf3*tf**2 + 2*nf3*tf*tm**2 - 3*nf3*tf*tm - 2*nm1*tf**2*tm + 3*nm1*tf**2 - nm1*tf*tm**2 + nm1*tf*tm + 2*nm1*tm**3 - 3*nm1*tm**2 + nm2*tf**2*tm - nm2*tf*tm**2 + nm2*tf*tm - nm2*tm**3 + nm3*tf**2*tm + 2*nm3*tf*tm**2 - 2*nm3*tf*tm + 2*nm3*tm**3 - 3*nm3*tm**2),\n",
       " Gam1: (nf1*tf**3*zo + nf1*tf**3*zs - 9*nf1*tf**2*tm*zo - 8*nf1*tf**2*tm*zs + 7*nf1*tf**2*zo + 6*nf1*tf**2*zs + 4*nf1*tf*tm**2*zo + 3*nf1*tf*tm**2*zs + nf1*tf*tm*zo + nf1*tf*tm*zs + 2*nf1*tm**3*zo + 2*nf1*tm**3*zs - 6*nf1*tm**2*zo - 5*nf1*tm**2*zs - 2*nf2*tf**3*zo - 2*nf2*tf**3*zs - 3*nf2*tf**2*tm*zo - 3*nf2*tf**2*tm*zs + 10*nf2*tf**2*zo + 9*nf2*tf**2*zs + nf2*tf*tm**2*zo + nf2*tf*tm**2*zs - 5*nf2*tf*tm*zo - 4*nf2*tf*tm*zs + 2*nf2*tm**3*zo + 2*nf2*tm**3*zs - 3*nf2*tm**2*zo - 3*nf2*tm**2*zs + nf3*tf**3*zo + nf3*tf**3*zs - 6*nf3*tf**2*tm*zo - 3*nf3*tf**2*tm*zs + 7*nf3*tf**2*zo + 3*nf3*tf**2*zs + nf3*tf*tm**2*zo + 2*nf3*tf*tm**2*zs - 2*nf3*tf*tm*zo - 3*nf3*tf*tm*zs + 2*nf3*tm**3*zo - 3*nf3*tm**2*zo - 4*nm1*tf**2*tm*zo - 4*nm1*tf**2*tm*zs + 6*nm1*tf**2*zo + 6*nm1*tf**2*zs - 2*nm1*tf*tm**2*zo - 2*nm1*tf*tm**2*zs + 2*nm1*tf*tm*zo + 2*nm1*tf*tm*zs + 4*nm1*tm**3*zo + 4*nm1*tm**3*zs - 6*nm1*tm**2*zo - 6*nm1*tm**2*zs - nm2*tf**2*tm*zo - nm2*tf**2*tm*zs + 3*nm2*tf**2*zo + 3*nm2*tf**2*zs - 8*nm2*tf*tm**2*zo - 7*nm2*tf*tm**2*zs + 8*nm2*tf*tm*zo + 7*nm2*tf*tm*zs + 7*nm2*tm**3*zo + 6*nm2*tm**3*zs - 9*nm2*tm**2*zo - 8*nm2*tm**2*zs - nm3*tf**2*tm*zo + nm3*tf**2*tm*zs + 3*nm3*tf**2*zo - 5*nm3*tf*tm**2*zo - 3*nm3*tf*tm**2*zs + 5*nm3*tf*tm*zo + 3*nm3*tf*tm*zs + 4*nm3*tm**3*zo + 2*nm3*tm**3*zs - 6*nm3*tm**2*zo - 3*nm3*tm**2*zs)/(nf1*tf**3 - nf1*tf**2*tm - 2*nf1*tf**2 - nf1*tf*tm**2 + 3*nf1*tm**2 - 2*nf2*tf**3 - nf2*tf**2*tm + nf2*tf**2 + 2*nf2*tf*tm**2 + nf3*tf**3 + 2*nf3*tf**2*tm - 2*nf3*tf**2 + 2*nf3*tf*tm**2 - 3*nf3*tf*tm - 2*nm1*tf**2*tm + 3*nm1*tf**2 - nm1*tf*tm**2 + nm1*tf*tm + 2*nm1*tm**3 - 3*nm1*tm**2 + nm2*tf**2*tm - nm2*tf*tm**2 + nm2*tf*tm - nm2*tm**3 + nm3*tf**2*tm + 2*nm3*tf*tm**2 - 2*nm3*tf*tm + 2*nm3*tm**3 - 3*nm3*tm**2),\n",
       " Gam2: (nf1*tf**3*zo + nf1*tf**3*zs - 2*nf1*tf**2*zo - 2*nf1*tf**2*zs - 2*nf1*tf*tm**2*zo - 2*nf1*tf*tm**2*zs + 7*nf1*tf*tm*zo + 6*nf1*tf*tm*zs - nf1*tm**3*zo - nf1*tm**3*zs - 3*nf1*tm**2*zo - 2*nf1*tm**2*zs - 2*nf2*tf**3*zo - 2*nf2*tf**3*zs + 6*nf2*tf**2*tm*zo + 5*nf2*tf**2*tm*zs + nf2*tf**2*zo + nf2*tf**2*zs - 5*nf2*tf*tm**2*zo - 4*nf2*tf*tm**2*zs + nf2*tf*tm*zo + nf2*tf*tm*zs - nf2*tm**3*zo - nf2*tm**3*zs + nf3*tf**3*zo + nf3*tf**3*zs + 3*nf3*tf**2*tm*zo + 2*nf3*tf**2*tm*zs - 2*nf3*tf**2*zo - 2*nf3*tf**2*zs - 5*nf3*tf*tm**2*zo - 3*nf3*tf*tm**2*zs + 4*nf3*tf*tm*zo + 2*nf3*tf*tm*zs - nf3*tm**3*zo - nm1*tf**2*tm*zo - nm1*tf**2*tm*zs + 3*nm1*tf**2*zo + 3*nm1*tf**2*zs + 4*nm1*tf*tm**2*zo + 3*nm1*tf*tm**2*zs - 4*nm1*tf*tm*zo - 3*nm1*tf*tm*zs - 5*nm1*tm**3*zo - 4*nm1*tm**3*zs + 3*nm1*tm**2*zo + 2*nm1*tm**2*zs + 2*nm2*tf**2*tm*zo + 2*nm2*tf**2*tm*zs - 2*nm2*tf*tm**2*zo - 2*nm2*tf*tm**2*zs + 2*nm2*tf*tm*zo + 2*nm2*tf*tm*zs - 2*nm2*tm**3*zo - 2*nm2*tm**3*zs + 2*nm3*tf**2*tm*zo + nm3*tf**2*tm*zs + nm3*tf*tm**2*zo + 2*nm3*tf*tm**2*zs - nm3*tf*tm*zo - 2*nm3*tf*tm*zs - 5*nm3*tm**3*zo - 3*nm3*tm**3*zs + 3*nm3*tm**2*zo + 2*nm3*tm**2*zs)/(nf1*tf**3 - nf1*tf**2*tm - 2*nf1*tf**2 - nf1*tf*tm**2 + 3*nf1*tm**2 - 2*nf2*tf**3 - nf2*tf**2*tm + nf2*tf**2 + 2*nf2*tf*tm**2 + nf3*tf**3 + 2*nf3*tf**2*tm - 2*nf3*tf**2 + 2*nf3*tf*tm**2 - 3*nf3*tf*tm - 2*nm1*tf**2*tm + 3*nm1*tf**2 - nm1*tf*tm**2 + nm1*tf*tm + 2*nm1*tm**3 - 3*nm1*tm**2 + nm2*tf**2*tm - nm2*tf*tm**2 + nm2*tf*tm - nm2*tm**3 + nm3*tf**2*tm + 2*nm3*tf*tm**2 - 2*nm3*tf*tm + 2*nm3*tm**3 - 3*nm3*tm**2),\n",
       " Gaf3: (2*nf1*tf**3*zo + nf1*tf**3*zs + 7*nf1*tf**2*tm*zo + 7*nf1*tf**2*tm*zs - 4*nf1*tf**2*zo - 2*nf1*tf**2*zs + nf1*tf*tm**2*zo + 2*nf1*tf*tm**2*zs - 9*nf1*tf*tm*zo - 8*nf1*tf*tm*zs + 3*nf1*tm**2*zo + 5*nf2*tf**3*zo + 6*nf2*tf**3*zs + nf2*tf**2*tm*zo + 2*nf2*tf**2*tm*zs - 7*nf2*tf**2*zo - 7*nf2*tf**2*zs + 4*nf2*tf*tm**2*zo + 2*nf2*tf*tm**2*zs - 3*nf2*tf*tm*zo - 3*nf2*tf*tm*zs + 2*nf3*tf**3*zo + 4*nf3*tf**2*tm*zo - 4*nf3*tf**2*zo + 4*nf3*tf*tm**2*zo - 6*nf3*tf*tm*zo + nm1*tf**3*zo + nm1*tf**3*zs + 6*nm1*tf**2*tm*zo + 7*nm1*tf**2*tm*zs - 5*nm1*tf**2*zo - 7*nm1*tf**2*zs + nm1*tf*tm**2*zo + 2*nm1*tf*tm**2*zs - 2*nm1*tf*tm*zo - 3*nm1*tf*tm*zs + 2*nm1*tm**3*zo - 3*nm1*tm**2*zo + nm2*tf**3*zo + nm2*tf**3*zs + 3*nm2*tf**2*tm*zo + 2*nm2*tf**2*tm*zs - 2*nm2*tf**2*zo - 2*nm2*tf**2*zs + 7*nm2*tf*tm**2*zo + 7*nm2*tf*tm**2*zs - 8*nm2*tf*tm*zo - 8*nm2*tf*tm*zs - nm2*tm**3*zo + nm3*tf**3*zo + 3*nm3*tf**2*tm*zo - 2*nm3*tf**2*zo + 4*nm3*tf*tm**2*zo - 5*nm3*tf*tm*zo + 2*nm3*tm**3*zo - 3*nm3*tm**2*zo)/(nf1*tf**3 - nf1*tf**2*tm - 2*nf1*tf**2 - nf1*tf*tm**2 + 3*nf1*tm**2 - 2*nf2*tf**3 - nf2*tf**2*tm + nf2*tf**2 + 2*nf2*tf*tm**2 + nf3*tf**3 + 2*nf3*tf**2*tm - 2*nf3*tf**2 + 2*nf3*tf*tm**2 - 3*nf3*tf*tm - 2*nm1*tf**2*tm + 3*nm1*tf**2 - nm1*tf*tm**2 + nm1*tf*tm + 2*nm1*tm**3 - 3*nm1*tm**2 + nm2*tf**2*tm - nm2*tf*tm**2 + nm2*tf*tm - nm2*tm**3 + nm3*tf**2*tm + 2*nm3*tf*tm**2 - 2*nm3*tf*tm + 2*nm3*tm**3 - 3*nm3*tm**2)}"
      ]
     },
     "execution_count": 17,
     "metadata": {},
     "output_type": "execute_result"
    }
   ],
   "source": [
    "solve(( Gam1-((1-tm)*tf*xs+tm*xo)/(1+r)-zo-zs, Gam2-((1-tm)*tm*xs+tm*xo)/(1+r)-zo-zs, Gam3-(tm*xo)/(1+r)-zo, Gaf1-((1-tf)*tm*xs+tf*xo)/(1+r)-zo-zs, Gaf2-((1-tf)*tf*xs+tf*xo)/(1+r)-zo-zs, Gaf3-(tf*xo)/(1+r)-zo,\n",
    "((nm1+nm2+nm3+nf1+nf2+nf3)*zo+(nm1+nm2+nf1+nf2)*zs)*(1+r) - xo*(tm*(nm1+nm2+nm3)+tf*(nf1+nf2+nf3))-xs*(nm1*(1-tm)*tf+nm2*(1-tm)*tm + nf1*(1-tf)*tm+nf2*(1-tf)*tf),Gam1+Gam2+Gam2+Gaf1+Gaf2+Gaf3), [Gam1,Gam2,Gam3,Gaf1,Gaf2,Gaf3,xo,xs])\n",
    "\n"
   ]
  },
  {
   "cell_type": "code",
   "execution_count": 26,
   "metadata": {
    "collapsed": true
   },
   "outputs": [],
   "source": [
    "#Defined Benefit\n",
    "nm1= 10000\n",
    "nm2=5\n",
    "nm3=20\n",
    "nf1=10000\n",
    "nf2=5\n",
    "nf3= 20\n",
    "tf=  0.8\n",
    "tm= 0.72\n",
    "xs=100\n",
    "xo=150\n",
    "r= 0.001\n"
   ]
  },
  {
   "cell_type": "code",
   "execution_count": 27,
   "metadata": {
    "collapsed": false
   },
   "outputs": [
    {
     "data": {
      "text/plain": [
       "{Gaf2: 271.264606166171,\n",
       " zo: -1453.34600785383,\n",
       " zs: 1588.74647815587,\n",
       " Gam3: -1345.45389996172,\n",
       " Gaf1: 269.666204567769,\n",
       " Gam1: 265.670200571765,\n",
       " Gam2: 263.432438334003,\n",
       " Gaf3: -1333.46588797371}"
      ]
     },
     "execution_count": 27,
     "metadata": {},
     "output_type": "execute_result"
    }
   ],
   "source": [
    "solve(( Gam1-((1-tm)*tf*xs+tm*xo)/(1+r)-zo-zs, Gam2-((1-tm)*tm*xs+tm*xo)/(1+r)-zo-zs, Gam3-(tm*xo)/(1+r)-zo, Gaf1-((1-tf)*tm*xs+tf*xo)/(1+r)-zo-zs, Gaf2-((1-tf)*tf*xs+tf*xo)/(1+r)-zo-zs, Gaf3-(tf*xo)/(1+r)-zo,\n",
    "((nm1+nm2+nm3+nf1+nf2+nf3)*zo+(nm1+nm2+nf1+nf2)*zs)*(1+r) - xo*(tm*(nm1+nm2+nm3)+tf*(nf1+nf2+nf3))-xs*(nm1*(1-tm)*tf+nm2*(1-tm)*tm + nf1*(1-tf)*tm+nf2*(1-tf)*tf),Gam1+Gam2+Gam2+Gaf1+Gaf2+Gaf3), [Gam1,Gam2,Gam3,Gaf1,Gaf2,Gaf3,zo,zs])\n"
   ]
  },
  {
   "cell_type": "code",
   "execution_count": 28,
   "metadata": {
    "collapsed": true
   },
   "outputs": [],
   "source": [
    "#Defined Contribution\n",
    "nm1= 10000\n",
    "nm2=5\n",
    "nm3=20\n",
    "nf1=10000\n",
    "nf2=5\n",
    "nf3= 20\n",
    "tf=  0.8\n",
    "tm= 0.72\n",
    "zs=100\n",
    "zo=150\n",
    "r= 0.001\n",
    "\n",
    "xs=  Symbol('xs')\n",
    "xo= Symbol('xo')"
   ]
  },
  {
   "cell_type": "code",
   "execution_count": 29,
   "metadata": {
    "collapsed": false
   },
   "outputs": [
    {
     "data": {
      "text/plain": [
       "{Gaf2: -52.8536593532742,\n",
       " Gam2: 956.229281523101,\n",
       " xo: -3780.94693472411,\n",
       " Gaf1: -324.741874614679,\n",
       " Gaf3: -2871.73581196732,\n",
       " Gam1: 1336.87278288907,\n",
       " xs: 17010.0064672916,\n",
       " Gam3: -2569.56223077059}"
      ]
     },
     "execution_count": 29,
     "metadata": {},
     "output_type": "execute_result"
    }
   ],
   "source": [
    "solve(( Gam1-((1-tm)*tf*xs+tm*xo)/(1+r)-zo-zs, Gam2-((1-tm)*tm*xs+tm*xo)/(1+r)-zo-zs, Gam3-(tm*xo)/(1+r)-zo, Gaf1-((1-tf)*tm*xs+tf*xo)/(1+r)-zo-zs, Gaf2-((1-tf)*tf*xs+tf*xo)/(1+r)-zo-zs, Gaf3-(tf*xo)/(1+r)-zo,\n",
    "((nm1+nm2+nm3+nf1+nf2+nf3)*zo+(nm1+nm2+nf1+nf2)*zs)*(1+r) - xo*(tm*(nm1+nm2+nm3)+tf*(nf1+nf2+nf3))-xs*(nm1*(1-tm)*tf+nm2*(1-tm)*tm + nf1*(1-tf)*tm+nf2*(1-tf)*tf),Gam1+Gam2+Gam2+Gaf1+Gaf2+Gaf3), [Gam1,Gam2,Gam3,Gaf1,Gaf2,Gaf3,xo,xs])\n"
   ]
  },
  {
   "cell_type": "markdown",
   "metadata": {},
   "source": [
    "##Conclusion and Discussion"
   ]
  }
 ],
 "metadata": {
  "anaconda-cloud": {},
  "kernelspec": {
   "display_name": "Python [conda root]",
   "language": "python",
   "name": "conda-root-py"
  },
  "language_info": {
   "codemirror_mode": {
    "name": "ipython",
    "version": 3
   },
   "file_extension": ".py",
   "mimetype": "text/x-python",
   "name": "python",
   "nbconvert_exporter": "python",
   "pygments_lexer": "ipython3",
   "version": "3.5.2"
  }
 },
 "nbformat": 4,
 "nbformat_minor": 1
}
